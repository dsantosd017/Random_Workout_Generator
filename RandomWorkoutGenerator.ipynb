{
  "nbformat": 4,
  "nbformat_minor": 0,
  "metadata": {
    "colab": {
      "provenance": [],
      "authorship_tag": "ABX9TyP9175aPQkTTDCLu94xYtg2",
      "include_colab_link": true
    },
    "kernelspec": {
      "name": "python3",
      "display_name": "Python 3"
    },
    "language_info": {
      "name": "python"
    }
  },
  "cells": [
    {
      "cell_type": "markdown",
      "metadata": {
        "id": "view-in-github",
        "colab_type": "text"
      },
      "source": [
        "<a href=\"https://colab.research.google.com/github/npace828/Random_Workout_Generator/blob/main/RandomWorkoutGenerator.ipynb\" target=\"_parent\"><img src=\"https://colab.research.google.com/assets/colab-badge.svg\" alt=\"Open In Colab\"/></a>"
      ]
    },
    {
      "cell_type": "code",
      "execution_count": 3,
      "metadata": {
        "colab": {
          "base_uri": "https://localhost:8080/"
        },
        "id": "69p-b2-a6iiJ",
        "outputId": "b516d180-5f01-480f-e924-d9b8a1d93b94"
      },
      "outputs": [
        {
          "output_type": "stream",
          "name": "stdout",
          "text": [
            "Enter the type of workout (cardio, weightlifting, HIIT): cardio\n",
            "Enter the number of rounds: 3\n",
            "\n",
            "Your workout routine:\n",
            "\n",
            "Round 1: Cycling, Burpees, Running, High Knees, Jumping Jacks, Jump Rope (40 reps)\n",
            "Round 2: Jump Rope, High Knees, Cycling, Running, Jumping Jacks, Burpees (40 reps)\n",
            "Round 3: Jumping Jacks, Jump Rope, High Knees, Cycling, Burpees, Running (40 reps)\n",
            "Would you like another workout suggestion? (yes/no): no\n",
            "Thank you for using the Random Workout Generator!!\n"
          ]
        }
      ],
      "source": [
        "import random\n",
        "\n",
        "# Define workout options for each type of workout\n",
        "workouts = {\n",
        "    \"cardio\": [\"Running\", \"Jumping Jacks\", \"Burpees\", \"Cycling\", \"Jump Rope\", \"High Knees\"],\n",
        "    \"weightlifting\": [\"Squats\", \"Deadlifts\", \"Bench Press\", \"Overhead Press\", \"Rows\", \"Pull-ups\"],\n",
        "    \"hiit\": [\"Mountain Climbers\", \"Sprint Intervals\", \"Box Jumps\", \"Plank Jacks\", \"Battle Ropes\", \"Jump Squats\"]\n",
        "}\n",
        "\n",
        "def generate_workout(workout_type, rounds):\n",
        "    workout_options = workouts.get(workout_type.lower())\n",
        "    if not workout_options:\n",
        "        print(\"Invalid workout type. Please choose from 'cardio', 'weightlifting', or 'HIIT'.\")\n",
        "        return None\n",
        "\n",
        "    reps = calculate_reps(workout_type, rounds)\n",
        "\n",
        "    workout_routine = []\n",
        "    for i in range(rounds):\n",
        "        random.shuffle(workout_options)  # Randomize workout order for each round\n",
        "        workout_routine.append(f\"Round {i+1}: {', '.join(workout_options)} ({reps})\")\n",
        "\n",
        "    return \"\\n\".join(workout_routine)\n",
        "\n",
        "def calculate_reps(workout_type, rounds):\n",
        "    if rounds < 5:\n",
        "        if workout_type.lower() == \"cardio\":\n",
        "            return \"40 reps\"\n",
        "        elif workout_type.lower() == \"weightlifting\":\n",
        "            return \"10-maxout reps\"\n",
        "        elif workout_type.lower() == \"hiit\":\n",
        "            return \"3-4 minutes\"\n",
        "    elif 5 <= rounds <= 9:\n",
        "        if workout_type.lower() == \"cardio\":\n",
        "            return \"30 reps\"\n",
        "        elif workout_type.lower() == \"weightlifting\":\n",
        "            return \"6-8 reps\"\n",
        "        elif workout_type.lower() == \"hiit\":\n",
        "            return \"2-3 minutes\"\n",
        "    elif rounds > 9:\n",
        "        if workout_type.lower() == \"cardio\":\n",
        "            return \"20 reps\"\n",
        "        elif workout_type.lower() == \"weightlifting\":\n",
        "            return \"4-6 reps\"\n",
        "        elif workout_type.lower() == \"hiit\":\n",
        "            return \"1-2 minutes\"\n",
        "\n",
        "def restart_program():\n",
        "    answer = input(\"Would you like another workout suggestion? (yes/no): \").lower()\n",
        "    if answer == \"yes\":\n",
        "        main()\n",
        "    elif answer == \"no\":\n",
        "        print(\"Thank you for using the Random Workout Generator!!\")\n",
        "    else:\n",
        "        print(\"Invalid input. Please enter 'yes' or 'no'.\")\n",
        "        restart_program()\n",
        "\n",
        "def main():\n",
        "    while True:\n",
        "        workout_type = input(\"Enter the type of workout (cardio, weightlifting, HIIT): \")\n",
        "        rounds = int(input(\"Enter the number of rounds: \"))\n",
        "\n",
        "        workout_routine = generate_workout(workout_type, rounds)\n",
        "        if workout_routine:\n",
        "            print(\"\\nYour workout routine:\\n\")\n",
        "            print(workout_routine)\n",
        "            restart_program()\n",
        "            break\n",
        "\n",
        "if __name__ == \"__main__\":\n",
        "    main()\n",
        "\n",
        "\n"
      ]
    }
  ]
}