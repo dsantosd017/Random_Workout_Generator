{
  "nbformat": 4,
  "nbformat_minor": 0,
  "metadata": {
    "colab": {
      "provenance": [],
      "authorship_tag": "ABX9TyN9DQvFhIbWFDBUOImPlFJ+",
      "include_colab_link": true
    },
    "kernelspec": {
      "name": "python3",
      "display_name": "Python 3"
    },
    "language_info": {
      "name": "python"
    }
  },
  "cells": [
    {
      "cell_type": "markdown",
      "metadata": {
        "id": "view-in-github",
        "colab_type": "text"
      },
      "source": [
        "<a href=\"https://colab.research.google.com/github/npace828/Random_Workout_Generator/blob/main/RandomWorkoutGenerator.ipynb\" target=\"_parent\"><img src=\"https://colab.research.google.com/assets/colab-badge.svg\" alt=\"Open In Colab\"/></a>"
      ]
    },
    {
      "cell_type": "code",
      "execution_count": 1,
      "metadata": {
        "colab": {
          "base_uri": "https://localhost:8080/"
        },
        "id": "69p-b2-a6iiJ",
        "outputId": "11bcc42f-b1a7-48cc-ae34-356de7699ca2"
      },
      "outputs": [
        {
          "output_type": "stream",
          "name": "stdout",
          "text": [
            "Enter the type of workout (cardio, weightlifting, HIIT): cardio\n",
            "Enter the number of rounds: 3\n",
            "\n",
            "Your workout routine:\n",
            "\n",
            "Round 1: Burpees, High Knees, Cycling, Jumping Jacks, Running, Jump Rope\n",
            "Round 2: Running, Cycling, Burpees, Jump Rope, High Knees, Jumping Jacks\n",
            "Round 3: Jumping Jacks, High Knees, Running, Cycling, Burpees, Jump Rope\n"
          ]
        }
      ],
      "source": [
        "import random\n",
        "\n",
        "# Define workout options for each type of workout\n",
        "workouts = {\n",
        "    \"cardio\": [\"Running\", \"Jumping Jacks\", \"Burpees\", \"Cycling\", \"Jump Rope\", \"High Knees\"],\n",
        "    \"weightlifting\": [\"Squats\", \"Deadlifts\", \"Bench Press\", \"Overhead Press\", \"Rows\", \"Pull-ups\"],\n",
        "    \"HIIT\": [\"Mountain Climbers\", \"Sprint Intervals\", \"Box Jumps\", \"Plank Jacks\", \"Battle Ropes\", \"Jump Squats\"]\n",
        "}\n",
        "\n",
        "def generate_workout(workout_type, rounds):\n",
        "    workout_options = workouts.get(workout_type)\n",
        "    if not workout_options:\n",
        "        return \"Invalid workout type. Please choose from 'cardio', 'weightlifting', or 'HIIT'.\"\n",
        "\n",
        "    workout_routine = []\n",
        "    for i in range(rounds):\n",
        "        random.shuffle(workout_options)  # Randomize workout order for each round\n",
        "        workout_routine.append(f\"Round {i+1}: {', '.join(workout_options)}\")\n",
        "\n",
        "    return \"\\n\".join(workout_routine)\n",
        "\n",
        "if __name__ == \"__main__\":\n",
        "    workout_type = input(\"Enter the type of workout (cardio, weightlifting, HIIT): \").lower()\n",
        "    rounds = int(input(\"Enter the number of rounds: \"))\n",
        "\n",
        "    workout_routine = generate_workout(workout_type, rounds)\n",
        "    print(\"\\nYour workout routine:\\n\")\n",
        "    print(workout_routine)\n"
      ]
    }
  ]
}